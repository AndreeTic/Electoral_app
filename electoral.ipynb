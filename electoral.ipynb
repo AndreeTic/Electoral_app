{
 "cells": [
  {
   "cell_type": "code",
   "execution_count": 27,
   "id": "a22922b2",
   "metadata": {},
   "outputs": [
    {
     "data": {
      "text/plain": [
       "<module 'electoral_calculator' from 'c:\\\\Users\\\\Andree Aaron\\\\Downloads\\\\423\\\\Elecciones 18 Mayo\\\\Electoral\\\\electoral_calculator.py'>"
      ]
     },
     "execution_count": 27,
     "metadata": {},
     "output_type": "execute_result"
    }
   ],
   "source": [
    "import importlib\n",
    "import etl_dependencies\n",
    "import electoral_calculator\n",
    "importlib.reload(etl_dependencies)\n",
    "importlib.reload(electoral_calculator)\n"
   ]
  },
  {
   "cell_type": "code",
   "execution_count": 28,
   "id": "e0dccafd",
   "metadata": {},
   "outputs": [
    {
     "name": "stdout",
     "output_type": "stream",
     "text": [
      "True\n"
     ]
    }
   ],
   "source": [
    "import os\n",
    "\n",
    "# Verificar si el archivo existe\n",
    "archivo = \"C:/Users/Andree Aaron/Downloads/423/Elecciones 18 Mayo/Electoral/DIVIPOLE COYAIMA.xlsx\"\n",
    "print(os.path.exists(archivo))  # Debería devolver True si el archivo existe\n"
   ]
  },
  {
   "cell_type": "code",
   "execution_count": 29,
   "id": "f28705ee",
   "metadata": {},
   "outputs": [
    {
     "name": "stdout",
     "output_type": "stream",
     "text": [
      "   dd    mm    zz    pp Departamento Municipio                     Puesto  \\\n",
      "0  29  34.0   0.0   0.0       TOLIMA   COYAIMA  PUESTO CABECERA MUNICIPAL   \n",
      "1  29  34.0  99.0   1.0       TOLIMA   COYAIMA                   CASTILLA   \n",
      "2  29  34.0  99.0   5.0       TOLIMA   COYAIMA                    HILARCO   \n",
      "3  29  34.0  99.0  12.0       TOLIMA   COYAIMA          MESAS DE SAN JUAN   \n",
      "4  29  34.0  99.0  20.0       TOLIMA   COYAIMA                SANTA MARTA   \n",
      "\n",
      "   Mujeres  Hombres  Total  ...  Comuna                        Dirección  \\\n",
      "0     6057     6591  12648  ...     NaN     CARRERA 5 CALLE 4 B/. CENTRO   \n",
      "1     1257     1246   2503  ...     NaN             CARRERA 2 No. 2 - 82   \n",
      "2      440      430    870  ...     NaN  COL SATELIE JUAN LOZANO SANCHEZ   \n",
      "3      458      531    989  ...     NaN           INSP DE POLICIA CASETA   \n",
      "4      268      289    557  ...     NaN            ESC MIXTA SANTA MARTA   \n",
      "\n",
      "  Tipo Elección Nro Curules     Tipo Cant Mesas  Cant. C. Esc. Mpal  \\\n",
      "0       ALCALDE         1.0  ATIPICA       33.0                 1.0   \n",
      "1       ALCALDE         NaN  ATIPICA        7.0                 NaN   \n",
      "2       ALCALDE         NaN  ATIPICA        3.0                 NaN   \n",
      "3       ALCALDE         NaN  ATIPICA        3.0                 NaN   \n",
      "4       ALCALDE         NaN  ATIPICA        2.0                 NaN   \n",
      "\n",
      "   comisión municipal  comisión general  comisión auxiliar  \n",
      "0                 1.0               1.0                0.0  \n",
      "1                 NaN               NaN                NaN  \n",
      "2                 NaN               NaN                NaN  \n",
      "3                 NaN               NaN                NaN  \n",
      "4                 NaN               NaN                NaN  \n",
      "\n",
      "[5 rows x 21 columns]\n",
      "Index(['dd', 'mm', 'zz', 'pp', 'Departamento', 'Municipio', 'Puesto',\n",
      "       'Mujeres', 'Hombres', 'Total', 'Mesas', 'Comuna', 'Dirección',\n",
      "       'Tipo Elección', 'Nro Curules', 'Tipo', 'Cant Mesas',\n",
      "       'Cant. C. Esc. Mpal', 'comisión municipal', 'comisión general',\n",
      "       'comisión auxiliar'],\n",
      "      dtype='object')\n"
     ]
    }
   ],
   "source": [
    "import pandas as pd\n",
    "\n",
    "df = pd.read_excel(archivo, skiprows=4)\n",
    "print(df.head())  # Muestra las primeras filas del DataFrame\n",
    "print(df.columns)  # Muestra los nombres de las columnas\n"
   ]
  },
  {
   "cell_type": "code",
   "execution_count": 31,
   "id": "efde227a",
   "metadata": {},
   "outputs": [
    {
     "name": "stdout",
     "output_type": "stream",
     "text": [
      "📍 Coyaima | 2 candidatos | 10 puestos | 54 mesas\n",
      "- Remanentes: 13 | Mesa principal: 54 | Total mesa/candidato: 67\n",
      "- Comisión municipal: 1 | Comisión general: 1 | Auxiliares: 0\n",
      "- Total comisión/candidato: 4\n",
      "- Total x candidato: 71\n",
      "➡️ Total general: mesa 134 | comisión 8 | ✅ total: 142\n"
     ]
    }
   ],
   "source": [
    "# Ruta del archivo Excel y número de candidatos\n",
    "ruta = \"C:/Users/Andree Aaron/Downloads/423/Elecciones 18 Mayo/Electoral/DIVIPOLE COYAIMA.xlsx\"\n",
    "candidatos = 2  # Cambia este valor a la cantidad de candidatos que necesites\n",
    "\n",
    "# Llamar la función y obtener los resultados\n",
    "resultados = electoral_calculator.process_divipola(ruta, candidatos)\n",
    "\n",
    "# Mostrar los resultados\n",
    "print(f\"📍 {resultados['sitio']} | {resultados['candidatos']} candidatos | {resultados['puestos']} puestos | {resultados['total_mesas']} mesas\")\n",
    "print(f\"- Remanentes: {resultados['total_remanentes']} | Mesa principal: {resultados['total_mesas']} | Total mesa/candidato: {resultados['total_mesa_pc']}\")\n",
    "print(f\"- Comisión municipal: {resultados['municipal']} | Comisión general: {resultados['general']} | Auxiliares: {resultados['auxiliar']}\")\n",
    "print(f\"- Total comisión/candidato: {resultados['total_comm_pc']}\")\n",
    "print(f\"- Total x candidato: {resultados['total_x_candidato']}\")\n",
    "print(f\"➡️ Total general: mesa {resultados['total_mesa_all']} | comisión {resultados['total_comm_all']} | ✅ total: {resultados['total_all']}\")\n"
   ]
  }
 ],
 "metadata": {
  "kernelspec": {
   "display_name": "Python 3",
   "language": "python",
   "name": "python3"
  },
  "language_info": {
   "codemirror_mode": {
    "name": "ipython",
    "version": 3
   },
   "file_extension": ".py",
   "mimetype": "text/x-python",
   "name": "python",
   "nbconvert_exporter": "python",
   "pygments_lexer": "ipython3",
   "version": "3.12.5"
  }
 },
 "nbformat": 4,
 "nbformat_minor": 5
}
